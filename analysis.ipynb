{
 "cells": [
  {
   "cell_type": "code",
   "execution_count": 1,
   "id": "406d036a-9c05-4b2d-a57c-087f59ef2984",
   "metadata": {
    "pycharm": {
     "name": "#%%\n"
    }
   },
   "outputs": [],
   "source": [
    "import pandas as pd\n",
    "import numpy as np\n",
    "import matplotlib.pyplot as plt"
   ]
  },
  {
   "cell_type": "code",
   "execution_count": 2,
   "id": "f3590572-81e9-46f3-a093-a9c0dff2e3f5",
   "metadata": {
    "pycharm": {
     "name": "#%%\n"
    }
   },
   "outputs": [],
   "source": [
    "# importing data\n",
    "marketing = pd.read_csv(\"marketing.csv\")"
   ]
  },
  {
   "cell_type": "code",
   "execution_count": 3,
   "id": "43fde4db-7e50-4b91-99c0-ca64ca0d69e5",
   "metadata": {
    "pycharm": {
     "name": "#%%\n"
    }
   },
   "outputs": [
    {
     "data": {
      "text/plain": "      user_id date_served marketing_channel          variant converted  \\\n0  a100000029      1/1/18         House Ads  personalization      True   \n1  a100000030      1/1/18         House Ads  personalization      True   \n2  a100000031      1/1/18         House Ads  personalization      True   \n3  a100000032      1/1/18         House Ads  personalization      True   \n4  a100000033      1/1/18         House Ads  personalization      True   \n\n  language_displayed language_preferred    age_group date_subscribed  \\\n0            English            English   0-18 years          1/1/18   \n1            English            English  19-24 years          1/1/18   \n2            English            English  24-30 years          1/1/18   \n3            English            English  30-36 years          1/1/18   \n4            English            English  36-45 years          1/1/18   \n\n  date_canceled subscribing_channel is_retained  \n0           NaN           House Ads        True  \n1           NaN           House Ads        True  \n2           NaN           House Ads        True  \n3           NaN           House Ads        True  \n4           NaN           House Ads        True  ",
      "text/html": "<div>\n<style scoped>\n    .dataframe tbody tr th:only-of-type {\n        vertical-align: middle;\n    }\n\n    .dataframe tbody tr th {\n        vertical-align: top;\n    }\n\n    .dataframe thead th {\n        text-align: right;\n    }\n</style>\n<table border=\"1\" class=\"dataframe\">\n  <thead>\n    <tr style=\"text-align: right;\">\n      <th></th>\n      <th>user_id</th>\n      <th>date_served</th>\n      <th>marketing_channel</th>\n      <th>variant</th>\n      <th>converted</th>\n      <th>language_displayed</th>\n      <th>language_preferred</th>\n      <th>age_group</th>\n      <th>date_subscribed</th>\n      <th>date_canceled</th>\n      <th>subscribing_channel</th>\n      <th>is_retained</th>\n    </tr>\n  </thead>\n  <tbody>\n    <tr>\n      <th>0</th>\n      <td>a100000029</td>\n      <td>1/1/18</td>\n      <td>House Ads</td>\n      <td>personalization</td>\n      <td>True</td>\n      <td>English</td>\n      <td>English</td>\n      <td>0-18 years</td>\n      <td>1/1/18</td>\n      <td>NaN</td>\n      <td>House Ads</td>\n      <td>True</td>\n    </tr>\n    <tr>\n      <th>1</th>\n      <td>a100000030</td>\n      <td>1/1/18</td>\n      <td>House Ads</td>\n      <td>personalization</td>\n      <td>True</td>\n      <td>English</td>\n      <td>English</td>\n      <td>19-24 years</td>\n      <td>1/1/18</td>\n      <td>NaN</td>\n      <td>House Ads</td>\n      <td>True</td>\n    </tr>\n    <tr>\n      <th>2</th>\n      <td>a100000031</td>\n      <td>1/1/18</td>\n      <td>House Ads</td>\n      <td>personalization</td>\n      <td>True</td>\n      <td>English</td>\n      <td>English</td>\n      <td>24-30 years</td>\n      <td>1/1/18</td>\n      <td>NaN</td>\n      <td>House Ads</td>\n      <td>True</td>\n    </tr>\n    <tr>\n      <th>3</th>\n      <td>a100000032</td>\n      <td>1/1/18</td>\n      <td>House Ads</td>\n      <td>personalization</td>\n      <td>True</td>\n      <td>English</td>\n      <td>English</td>\n      <td>30-36 years</td>\n      <td>1/1/18</td>\n      <td>NaN</td>\n      <td>House Ads</td>\n      <td>True</td>\n    </tr>\n    <tr>\n      <th>4</th>\n      <td>a100000033</td>\n      <td>1/1/18</td>\n      <td>House Ads</td>\n      <td>personalization</td>\n      <td>True</td>\n      <td>English</td>\n      <td>English</td>\n      <td>36-45 years</td>\n      <td>1/1/18</td>\n      <td>NaN</td>\n      <td>House Ads</td>\n      <td>True</td>\n    </tr>\n  </tbody>\n</table>\n</div>"
     },
     "execution_count": 3,
     "metadata": {},
     "output_type": "execute_result"
    }
   ],
   "source": [
    "marketing.head()"
   ]
  },
  {
   "cell_type": "code",
   "execution_count": 4,
   "id": "7526ac18-8017-489a-8898-18d73f0db590",
   "metadata": {
    "pycharm": {
     "name": "#%%\n"
    }
   },
   "outputs": [
    {
     "name": "stdout",
     "output_type": "stream",
     "text": [
      "<class 'pandas.core.frame.DataFrame'>\n",
      "RangeIndex: 10037 entries, 0 to 10036\n",
      "Data columns (total 12 columns):\n",
      " #   Column               Non-Null Count  Dtype \n",
      "---  ------               --------------  ----- \n",
      " 0   user_id              10037 non-null  object\n",
      " 1   date_served          10021 non-null  object\n",
      " 2   marketing_channel    10022 non-null  object\n",
      " 3   variant              10037 non-null  object\n",
      " 4   converted            10022 non-null  object\n",
      " 5   language_displayed   10037 non-null  object\n",
      " 6   language_preferred   10037 non-null  object\n",
      " 7   age_group            10037 non-null  object\n",
      " 8   date_subscribed      1856 non-null   object\n",
      " 9   date_canceled        577 non-null    object\n",
      " 10  subscribing_channel  1856 non-null   object\n",
      " 11  is_retained          1856 non-null   object\n",
      "dtypes: object(12)\n",
      "memory usage: 941.1+ KB\n"
     ]
    }
   ],
   "source": [
    "marketing.info()"
   ]
  },
  {
   "cell_type": "code",
   "execution_count": 5,
   "id": "68b49418-c275-4929-b64b-2afb3c17c1fc",
   "metadata": {
    "pycharm": {
     "name": "#%%\n"
    }
   },
   "outputs": [],
   "source": [
    "# Change datatype\n",
    "\n",
    "# Booleans\n",
    "marketing[\"converted\"] = marketing[\"converted\"].astype(\"bool\")\n",
    "marketing[\"is_retained\"] = marketing[\"is_retained\"].astype(\"bool\")\n",
    "\n",
    "# Dates\n",
    "marketing[\"date_served\"] = pd.to_datetime(marketing[\"date_served\"])\n",
    "marketing[\"date_subscribed\"] = pd.to_datetime(marketing[\"date_subscribed\"])\n",
    "marketing[\"date_canceled\"] = pd.to_datetime(marketing[\"date_canceled\"])"
   ]
  },
  {
   "cell_type": "code",
   "execution_count": 6,
   "id": "56491675-5664-46ca-bbe8-aae338e32a7e",
   "metadata": {
    "pycharm": {
     "name": "#%%\n"
    }
   },
   "outputs": [
    {
     "name": "stdout",
     "output_type": "stream",
     "text": [
      "<class 'pandas.core.frame.DataFrame'>\n",
      "RangeIndex: 10037 entries, 0 to 10036\n",
      "Data columns (total 12 columns):\n",
      " #   Column               Non-Null Count  Dtype         \n",
      "---  ------               --------------  -----         \n",
      " 0   user_id              10037 non-null  object        \n",
      " 1   date_served          10021 non-null  datetime64[ns]\n",
      " 2   marketing_channel    10022 non-null  object        \n",
      " 3   variant              10037 non-null  object        \n",
      " 4   converted            10037 non-null  bool          \n",
      " 5   language_displayed   10037 non-null  object        \n",
      " 6   language_preferred   10037 non-null  object        \n",
      " 7   age_group            10037 non-null  object        \n",
      " 8   date_subscribed      1856 non-null   datetime64[ns]\n",
      " 9   date_canceled        577 non-null    datetime64[ns]\n",
      " 10  subscribing_channel  1856 non-null   object        \n",
      " 11  is_retained          10037 non-null  bool          \n",
      "dtypes: bool(2), datetime64[ns](3), object(7)\n",
      "memory usage: 803.9+ KB\n"
     ]
    }
   ],
   "source": [
    "marketing.info()"
   ]
  },
  {
   "cell_type": "code",
   "execution_count": 7,
   "id": "3f307184",
   "metadata": {
    "pycharm": {
     "name": "#%%\n"
    }
   },
   "outputs": [
    {
     "data": {
      "text/plain": "      user_id date_served marketing_channel          variant  converted  \\\n0  a100000029  2018-01-01         House Ads  personalization       True   \n1  a100000030  2018-01-01         House Ads  personalization       True   \n2  a100000031  2018-01-01         House Ads  personalization       True   \n3  a100000032  2018-01-01         House Ads  personalization       True   \n4  a100000033  2018-01-01         House Ads  personalization       True   \n\n  language_displayed language_preferred    age_group date_subscribed  \\\n0            English            English   0-18 years      2018-01-01   \n1            English            English  19-24 years      2018-01-01   \n2            English            English  24-30 years      2018-01-01   \n3            English            English  30-36 years      2018-01-01   \n4            English            English  36-45 years      2018-01-01   \n\n  date_canceled subscribing_channel  is_retained  \n0           NaT           House Ads         True  \n1           NaT           House Ads         True  \n2           NaT           House Ads         True  \n3           NaT           House Ads         True  \n4           NaT           House Ads         True  ",
      "text/html": "<div>\n<style scoped>\n    .dataframe tbody tr th:only-of-type {\n        vertical-align: middle;\n    }\n\n    .dataframe tbody tr th {\n        vertical-align: top;\n    }\n\n    .dataframe thead th {\n        text-align: right;\n    }\n</style>\n<table border=\"1\" class=\"dataframe\">\n  <thead>\n    <tr style=\"text-align: right;\">\n      <th></th>\n      <th>user_id</th>\n      <th>date_served</th>\n      <th>marketing_channel</th>\n      <th>variant</th>\n      <th>converted</th>\n      <th>language_displayed</th>\n      <th>language_preferred</th>\n      <th>age_group</th>\n      <th>date_subscribed</th>\n      <th>date_canceled</th>\n      <th>subscribing_channel</th>\n      <th>is_retained</th>\n    </tr>\n  </thead>\n  <tbody>\n    <tr>\n      <th>0</th>\n      <td>a100000029</td>\n      <td>2018-01-01</td>\n      <td>House Ads</td>\n      <td>personalization</td>\n      <td>True</td>\n      <td>English</td>\n      <td>English</td>\n      <td>0-18 years</td>\n      <td>2018-01-01</td>\n      <td>NaT</td>\n      <td>House Ads</td>\n      <td>True</td>\n    </tr>\n    <tr>\n      <th>1</th>\n      <td>a100000030</td>\n      <td>2018-01-01</td>\n      <td>House Ads</td>\n      <td>personalization</td>\n      <td>True</td>\n      <td>English</td>\n      <td>English</td>\n      <td>19-24 years</td>\n      <td>2018-01-01</td>\n      <td>NaT</td>\n      <td>House Ads</td>\n      <td>True</td>\n    </tr>\n    <tr>\n      <th>2</th>\n      <td>a100000031</td>\n      <td>2018-01-01</td>\n      <td>House Ads</td>\n      <td>personalization</td>\n      <td>True</td>\n      <td>English</td>\n      <td>English</td>\n      <td>24-30 years</td>\n      <td>2018-01-01</td>\n      <td>NaT</td>\n      <td>House Ads</td>\n      <td>True</td>\n    </tr>\n    <tr>\n      <th>3</th>\n      <td>a100000032</td>\n      <td>2018-01-01</td>\n      <td>House Ads</td>\n      <td>personalization</td>\n      <td>True</td>\n      <td>English</td>\n      <td>English</td>\n      <td>30-36 years</td>\n      <td>2018-01-01</td>\n      <td>NaT</td>\n      <td>House Ads</td>\n      <td>True</td>\n    </tr>\n    <tr>\n      <th>4</th>\n      <td>a100000033</td>\n      <td>2018-01-01</td>\n      <td>House Ads</td>\n      <td>personalization</td>\n      <td>True</td>\n      <td>English</td>\n      <td>English</td>\n      <td>36-45 years</td>\n      <td>2018-01-01</td>\n      <td>NaT</td>\n      <td>House Ads</td>\n      <td>True</td>\n    </tr>\n  </tbody>\n</table>\n</div>"
     },
     "execution_count": 7,
     "metadata": {},
     "output_type": "execute_result"
    }
   ],
   "source": [
    "marketing.head()"
   ]
  },
  {
   "cell_type": "code",
   "execution_count": 8,
   "id": "fc36fc7a",
   "metadata": {
    "pycharm": {
     "name": "#%%\n"
    }
   },
   "outputs": [
    {
     "name": "stdout",
     "output_type": "stream",
     "text": [
      "Le taux de conversion sur cette campagne marketing est de 14.09%\n",
      "\n"
     ]
    }
   ],
   "source": [
    "# get convertion rate \n",
    "total =  marketing[\"user_id\"].nunique()\n",
    "converted = marketing[marketing[\"converted\"] == True][\"user_id\"].nunique()\n",
    "\n",
    "conversion_rate = converted/total\n",
    "conversion_rate = round(conversion_rate * 100, 2)\n",
    "\n",
    "print(f\"Le taux de conversion sur cette campagne marketing est de {conversion_rate}%\\n\")"
   ]
  },
  {
   "cell_type": "code",
   "execution_count": 9,
   "outputs": [
    {
     "name": "stdout",
     "output_type": "stream",
     "text": [
      "Le taux de retention sur cette campagne marketing est de 6.76%\n",
      "\n"
     ]
    }
   ],
   "source": [
    "# get retention rate\n",
    "total_subscriber = marketing[marketing[\"converted\"]][\"user_id\"].nunique()\n",
    "retained = marketing[marketing[\"is_retained\"] == True][\"user_id\"].nunique()\n",
    "\n",
    "retention_rate = retained/total_subscriber\n",
    "retention_rate = round(retained/total_subscriber, 2)\n",
    "\n",
    "print(f\"Le taux de retention sur cette campagne marketing est de {retention_rate}%\\n\")"
   ],
   "metadata": {
    "collapsed": false,
    "pycharm": {
     "name": "#%%\n"
    }
   }
  },
  {
   "cell_type": "code",
   "execution_count": 10,
   "outputs": [
    {
     "name": "stdout",
     "output_type": "stream",
     "text": [
      "Le taux de conversion sur le canal marketing Facebook est de 12.57%\n",
      "\n"
     ]
    }
   ],
   "source": [
    "# Customer segmentation => Marketing channel\n",
    "facebook = marketing[marketing[\"marketing_channel\"] == \"Facebook\"]\n",
    "# Taux de conversion\n",
    "total_facebook = facebook[\"user_id\"].nunique()\n",
    "total_converted = facebook[facebook[\"converted\"] == True][\"user_id\"].nunique()\n",
    "\n",
    "conversion_rate_facebook = total_converted/total_facebook\n",
    "conversion_rate_facebook = round(conversion_rate_facebook * 100, 2)\n",
    "\n",
    "print(f\"Le taux de conversion sur le canal marketing Facebook est de {conversion_rate_facebook}%\\n\")"
   ],
   "metadata": {
    "collapsed": false,
    "pycharm": {
     "name": "#%%\n"
    }
   }
  },
  {
   "cell_type": "code",
   "execution_count": 12,
   "outputs": [
    {
     "ename": "KeyError",
     "evalue": "'user_id'",
     "output_type": "error",
     "traceback": [
      "\u001B[0;31m---------------------------------------------------------------------------\u001B[0m",
      "\u001B[0;31mKeyError\u001B[0m                                  Traceback (most recent call last)",
      "File \u001B[0;32m~/Desktop/campain_analysis/env/lib/python3.10/site-packages/pandas/core/indexes/base.py:3802\u001B[0m, in \u001B[0;36mIndex.get_loc\u001B[0;34m(self, key, method, tolerance)\u001B[0m\n\u001B[1;32m   3801\u001B[0m \u001B[38;5;28;01mtry\u001B[39;00m:\n\u001B[0;32m-> 3802\u001B[0m     \u001B[38;5;28;01mreturn\u001B[39;00m \u001B[38;5;28;43mself\u001B[39;49m\u001B[38;5;241;43m.\u001B[39;49m\u001B[43m_engine\u001B[49m\u001B[38;5;241;43m.\u001B[39;49m\u001B[43mget_loc\u001B[49m\u001B[43m(\u001B[49m\u001B[43mcasted_key\u001B[49m\u001B[43m)\u001B[49m\n\u001B[1;32m   3803\u001B[0m \u001B[38;5;28;01mexcept\u001B[39;00m \u001B[38;5;167;01mKeyError\u001B[39;00m \u001B[38;5;28;01mas\u001B[39;00m err:\n",
      "File \u001B[0;32m~/Desktop/campain_analysis/env/lib/python3.10/site-packages/pandas/_libs/index.pyx:138\u001B[0m, in \u001B[0;36mpandas._libs.index.IndexEngine.get_loc\u001B[0;34m()\u001B[0m\n",
      "File \u001B[0;32m~/Desktop/campain_analysis/env/lib/python3.10/site-packages/pandas/_libs/index.pyx:165\u001B[0m, in \u001B[0;36mpandas._libs.index.IndexEngine.get_loc\u001B[0;34m()\u001B[0m\n",
      "File \u001B[0;32mpandas/_libs/hashtable_class_helper.pxi:5745\u001B[0m, in \u001B[0;36mpandas._libs.hashtable.PyObjectHashTable.get_item\u001B[0;34m()\u001B[0m\n",
      "File \u001B[0;32mpandas/_libs/hashtable_class_helper.pxi:5753\u001B[0m, in \u001B[0;36mpandas._libs.hashtable.PyObjectHashTable.get_item\u001B[0;34m()\u001B[0m\n",
      "\u001B[0;31mKeyError\u001B[0m: 'user_id'",
      "\nThe above exception was the direct cause of the following exception:\n",
      "\u001B[0;31mKeyError\u001B[0m                                  Traceback (most recent call last)",
      "Cell \u001B[0;32mIn[12], line 5\u001B[0m\n\u001B[1;32m      2\u001B[0m subscriber \u001B[38;5;241m=\u001B[39m marketing[marketing[\u001B[38;5;124m\"\u001B[39m\u001B[38;5;124mconverted\u001B[39m\u001B[38;5;124m\"\u001B[39m] \u001B[38;5;241m==\u001B[39m \u001B[38;5;28;01mTrue\u001B[39;00m]\u001B[38;5;241m.\u001B[39mgroupby([\u001B[38;5;124m\"\u001B[39m\u001B[38;5;124msubscribing_channel\u001B[39m\u001B[38;5;124m\"\u001B[39m])[\u001B[38;5;124m\"\u001B[39m\u001B[38;5;124muser_id\u001B[39m\u001B[38;5;124m\"\u001B[39m]\u001B[38;5;241m.\u001B[39mnunique()\n\u001B[1;32m      4\u001B[0m \u001B[38;5;66;03m# Calculate the retention rate across the DataFrame\u001B[39;00m\n\u001B[0;32m----> 5\u001B[0m total_segmented_subscriber \u001B[38;5;241m=\u001B[39m \u001B[43msubscriber\u001B[49m\u001B[43m[\u001B[49m\u001B[38;5;124;43m\"\u001B[39;49m\u001B[38;5;124;43muser_id\u001B[39;49m\u001B[38;5;124;43m\"\u001B[39;49m\u001B[43m]\u001B[49m\u001B[38;5;241m.\u001B[39mnunique()\n\u001B[1;32m      7\u001B[0m \u001B[38;5;66;03m# retention_rate\u001B[39;00m\n",
      "File \u001B[0;32m~/Desktop/campain_analysis/env/lib/python3.10/site-packages/pandas/core/series.py:981\u001B[0m, in \u001B[0;36mSeries.__getitem__\u001B[0;34m(self, key)\u001B[0m\n\u001B[1;32m    978\u001B[0m     \u001B[38;5;28;01mreturn\u001B[39;00m \u001B[38;5;28mself\u001B[39m\u001B[38;5;241m.\u001B[39m_values[key]\n\u001B[1;32m    980\u001B[0m \u001B[38;5;28;01melif\u001B[39;00m key_is_scalar:\n\u001B[0;32m--> 981\u001B[0m     \u001B[38;5;28;01mreturn\u001B[39;00m \u001B[38;5;28;43mself\u001B[39;49m\u001B[38;5;241;43m.\u001B[39;49m\u001B[43m_get_value\u001B[49m\u001B[43m(\u001B[49m\u001B[43mkey\u001B[49m\u001B[43m)\u001B[49m\n\u001B[1;32m    983\u001B[0m \u001B[38;5;28;01mif\u001B[39;00m is_hashable(key):\n\u001B[1;32m    984\u001B[0m     \u001B[38;5;66;03m# Otherwise index.get_value will raise InvalidIndexError\u001B[39;00m\n\u001B[1;32m    985\u001B[0m     \u001B[38;5;28;01mtry\u001B[39;00m:\n\u001B[1;32m    986\u001B[0m         \u001B[38;5;66;03m# For labels that don't resolve as scalars like tuples and frozensets\u001B[39;00m\n",
      "File \u001B[0;32m~/Desktop/campain_analysis/env/lib/python3.10/site-packages/pandas/core/series.py:1089\u001B[0m, in \u001B[0;36mSeries._get_value\u001B[0;34m(self, label, takeable)\u001B[0m\n\u001B[1;32m   1086\u001B[0m     \u001B[38;5;28;01mreturn\u001B[39;00m \u001B[38;5;28mself\u001B[39m\u001B[38;5;241m.\u001B[39m_values[label]\n\u001B[1;32m   1088\u001B[0m \u001B[38;5;66;03m# Similar to Index.get_value, but we do not fall back to positional\u001B[39;00m\n\u001B[0;32m-> 1089\u001B[0m loc \u001B[38;5;241m=\u001B[39m \u001B[38;5;28;43mself\u001B[39;49m\u001B[38;5;241;43m.\u001B[39;49m\u001B[43mindex\u001B[49m\u001B[38;5;241;43m.\u001B[39;49m\u001B[43mget_loc\u001B[49m\u001B[43m(\u001B[49m\u001B[43mlabel\u001B[49m\u001B[43m)\u001B[49m\n\u001B[1;32m   1090\u001B[0m \u001B[38;5;28;01mreturn\u001B[39;00m \u001B[38;5;28mself\u001B[39m\u001B[38;5;241m.\u001B[39mindex\u001B[38;5;241m.\u001B[39m_get_values_for_loc(\u001B[38;5;28mself\u001B[39m, loc, label)\n",
      "File \u001B[0;32m~/Desktop/campain_analysis/env/lib/python3.10/site-packages/pandas/core/indexes/base.py:3804\u001B[0m, in \u001B[0;36mIndex.get_loc\u001B[0;34m(self, key, method, tolerance)\u001B[0m\n\u001B[1;32m   3802\u001B[0m     \u001B[38;5;28;01mreturn\u001B[39;00m \u001B[38;5;28mself\u001B[39m\u001B[38;5;241m.\u001B[39m_engine\u001B[38;5;241m.\u001B[39mget_loc(casted_key)\n\u001B[1;32m   3803\u001B[0m \u001B[38;5;28;01mexcept\u001B[39;00m \u001B[38;5;167;01mKeyError\u001B[39;00m \u001B[38;5;28;01mas\u001B[39;00m err:\n\u001B[0;32m-> 3804\u001B[0m     \u001B[38;5;28;01mraise\u001B[39;00m \u001B[38;5;167;01mKeyError\u001B[39;00m(key) \u001B[38;5;28;01mfrom\u001B[39;00m \u001B[38;5;21;01merr\u001B[39;00m\n\u001B[1;32m   3805\u001B[0m \u001B[38;5;28;01mexcept\u001B[39;00m \u001B[38;5;167;01mTypeError\u001B[39;00m:\n\u001B[1;32m   3806\u001B[0m     \u001B[38;5;66;03m# If we have a listlike key, _check_indexing_error will raise\u001B[39;00m\n\u001B[1;32m   3807\u001B[0m     \u001B[38;5;66;03m#  InvalidIndexError. Otherwise we fall through and re-raise\u001B[39;00m\n\u001B[1;32m   3808\u001B[0m     \u001B[38;5;66;03m#  the TypeError.\u001B[39;00m\n\u001B[1;32m   3809\u001B[0m     \u001B[38;5;28mself\u001B[39m\u001B[38;5;241m.\u001B[39m_check_indexing_error(key)\n",
      "\u001B[0;31mKeyError\u001B[0m: 'user_id'"
     ]
    }
   ],
   "source": [
    "# get channel retention rate\n",
    "subscriber = marketing[marketing[\"converted\"] == True].groupby([\"subscribing_channel\"])[\"user_id\"].nunique()\n",
    "\n",
    "# Calculate the retention rate across the DataFrame\n",
    "total_segmented_subscriber = subscriber[\"user_id\"].nunique()\n",
    "\n",
    "# retention_rate"
   ],
   "metadata": {
    "collapsed": false,
    "pycharm": {
     "name": "#%%\n"
    }
   }
  },
  {
   "cell_type": "code",
   "execution_count": null,
   "outputs": [],
   "source": [],
   "metadata": {
    "collapsed": false,
    "pycharm": {
     "name": "#%%\n"
    }
   }
  }
 ],
 "metadata": {
  "kernelspec": {
   "display_name": "Python 3 (ipykernel)",
   "language": "python",
   "name": "python3"
  },
  "language_info": {
   "codemirror_mode": {
    "name": "ipython",
    "version": 3
   },
   "file_extension": ".py",
   "mimetype": "text/x-python",
   "name": "python",
   "nbconvert_exporter": "python",
   "pygments_lexer": "ipython3",
   "version": "3.10.1"
  },
  "vscode": {
   "interpreter": {
    "hash": "1e4934cf680873dbc1d3741cc38a93339894ceadfd7b8c399936d7b7bb0a556d"
   }
  }
 },
 "nbformat": 4,
 "nbformat_minor": 5
}